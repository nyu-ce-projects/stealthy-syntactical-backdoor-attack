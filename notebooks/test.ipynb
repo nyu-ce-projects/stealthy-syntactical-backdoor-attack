{
 "cells": [
  {
   "cell_type": "code",
   "execution_count": 2,
   "metadata": {},
   "outputs": [],
   "source": [
    "from contextlib import contextmanager\n",
    "\n",
    "@contextmanager\n",
    "def no_ssl_verify():\n",
    "    import ssl\n",
    "    from urllib import request\n",
    "\n",
    "    try:\n",
    "        request.urlopen.__kwdefaults__.update({'context': ssl.SSLContext()})\n",
    "        yield\n",
    "    finally:\n",
    "        request.urlopen.__kwdefaults__.update({'context': None})\n"
   ]
  },
  {
   "cell_type": "code",
   "execution_count": 3,
   "metadata": {},
   "outputs": [],
   "source": [
    "import OpenAttack"
   ]
  },
  {
   "cell_type": "code",
   "execution_count": 5,
   "metadata": {},
   "outputs": [],
   "source": [
    "with no_ssl_verify():\n",
    "    textattacker = OpenAttack.attackers.TextBuggerAttacker()\n",
    "    # scpn = OpenAttack.attackers.SCPNAttacker()"
   ]
  },
  {
   "cell_type": "code",
   "execution_count": 7,
   "metadata": {},
   "outputs": [],
   "source": [
    "# from Dataset import OLID,SST2,AG\n",
    "# dataset = SST2('train', False)\n",
    "text = 'this is a visually stunning rumination on love , memory , history and the war between art and commerce .'"
   ]
  },
  {
   "cell_type": "code",
   "execution_count": 6,
   "metadata": {},
   "outputs": [],
   "source": [
    "# from Models.GPT2LM import GPT2LM  \n",
    "# LM = GPT2LM()"
   ]
  },
  {
   "cell_type": "code",
   "execution_count": 11,
   "metadata": {},
   "outputs": [],
   "source": [
    "templates = [\"S ( SBAR ) ( , ) ( NP ) ( VP ) ( . ) ) )\"]\n",
    "paras = []\n",
    "paras.append(scpn.gen_paraphrase(sent,templates))"
   ]
  },
  {
   "cell_type": "code",
   "execution_count": 34,
   "metadata": {},
   "outputs": [],
   "source": [
    "# templates = [\"S ( SBAR ) ( , ) ( NP ) ( VP ) ( . ) ) )\"]\n",
    "# templates = ['( ROOT ( S ( NP ) ( VP ) ( . ) ) ) EOP',\n",
    "#                 '( ROOT ( S ( VP ) ( . ) ) ) EOP',\n",
    "#                 '( ROOT ( NP ( NP ) ( . ) ) ) EOP',\n",
    "#                 '( ROOT ( FRAG ( SBAR ) ( . ) ) ) EOP',\n",
    "#                 '( ROOT ( S ( S ) ( , ) ( CC ) ( S ) ( . ) ) ) EOP',\n",
    "#                 '( ROOT ( S ( LST ) ( VP ) ( . ) ) ) EOP',\n",
    "#                 '( ROOT ( SBARQ ( WHADVP ) ( SQ ) ( . ) ) ) EOP',\n",
    "#                 '( ROOT ( S ( PP ) ( , ) ( NP ) ( VP ) ( . ) ) ) EOP',\n",
    "#                 '( ROOT ( S ( ADVP ) ( NP ) ( VP ) ( . ) ) ) EOP',\n",
    "#                 '( ROOT ( S ( SBAR ) ( , ) ( NP ) ( VP ) ( . ) ) ) EOP'\n",
    "#             ,*templates]"
   ]
  },
  {
   "cell_type": "code",
   "execution_count": null,
   "metadata": {},
   "outputs": [],
   "source": [
    "for template in templates:\n",
    "    print(\"template: \", template)\n",
    "    print(scpn.gen_paraphrase(dataset.data[3][0],template))"
   ]
  },
  {
   "cell_type": "code",
   "execution_count": 50,
   "metadata": {},
   "outputs": [
    {
     "data": {
      "text/plain": [
       "'a stirring , funny and finally transporting re-imagining of beauty and the beast and 1930s horror films'"
      ]
     },
     "execution_count": 50,
     "metadata": {},
     "output_type": "execute_result"
    }
   ],
   "source": [
    "dataset.data[0][0]"
   ]
  },
  {
   "cell_type": "code",
   "execution_count": 49,
   "metadata": {},
   "outputs": [
    {
     "data": {
      "text/plain": [
       "'a stirring , funny anc finally transporting re-imagining of beauty and the beast and 1930s horror films'"
      ]
     },
     "execution_count": 49,
     "metadata": {},
     "output_type": "execute_result"
    }
   ],
   "source": [
    "textattacker.bug_sub_C(dataset.data[0][0])"
   ]
  },
  {
   "cell_type": "code",
   "execution_count": 60,
   "metadata": {},
   "outputs": [
    {
     "data": {
      "text/plain": [
       "'a lyrical metaphor for cultural and personal self-discovery and a picaresque view of a little-remembered world .'"
      ]
     },
     "execution_count": 60,
     "metadata": {},
     "output_type": "execute_result"
    }
   ],
   "source": [
    "dataset.data[10][0]"
   ]
  },
  {
   "cell_type": "code",
   "execution_count": 61,
   "metadata": {},
   "outputs": [
    {
     "data": {
      "text/plain": [
       "'a lyrical metaphor for cultural and personal self-discovery and a picaresque view of a little-remembered world .'"
      ]
     },
     "execution_count": 61,
     "metadata": {},
     "output_type": "execute_result"
    }
   ],
   "source": [
    "bugs = textattacker.generateBugs(dataset.data[10][0])"
   ]
  },
  {
   "cell_type": "code",
   "execution_count": null,
   "metadata": {},
   "outputs": [],
   "source": [
    "# max_score = float('-inf')\n",
    "# best_bug = dataset.data[10][0]\n",
    "# for bug_type, b_k in bugs.items():\n",
    "#     candidate_k = self.replaceWithBug(x_prime, word_idx, b_k)\n",
    "#     score_k = self.getScore(candidate_k, clsf, goal)\n",
    "#     if score_k > max_score:\n",
    "#         best_bug = b_k\n",
    "#         max_score = score_k\n",
    "# return best_bug"
   ]
  },
  {
   "cell_type": "code",
   "execution_count": 15,
   "metadata": {},
   "outputs": [],
   "source": [
    "import sys, os\n",
    "parent_dir = os.getcwd() # find the path to module a\n",
    "# Then go up one level to the common parent directory\n",
    "path = os.path.dirname(parent_dir)\n",
    "# Add the parent to sys.pah\n",
    "sys.path.append(path)"
   ]
  },
  {
   "cell_type": "code",
   "execution_count": 16,
   "metadata": {},
   "outputs": [],
   "source": [
    "from Models.BERT import BERT\n"
   ]
  },
  {
   "cell_type": "code",
   "execution_count": 17,
   "metadata": {},
   "outputs": [],
   "source": [
    "import torch\n",
    "from torch.nn.utils.rnn import pad_sequence\n",
    "from transformers import BertTokenizer\n",
    "# tokenizer = PunctTokenizer()\n",
    "tokenizer = BertTokenizer.from_pretrained('bert-base-uncased')\n",
    "\n",
    "class MyClassifier(OpenAttack.Classifier):\n",
    "    def __init__(self) -> None:\n",
    "        super().__init__()\n",
    "\n",
    "        self.model = BERT()\n",
    "    \n",
    "    def get_prob(self, sentences):\n",
    "        # print(\"akash\")\n",
    "        # print(sentences)\n",
    "        with torch.no_grad():\n",
    "            texts = [torch.tensor(tokenizer.encode(sent)) for sent in sentences]\n",
    "            padded_texts = pad_sequence(texts, batch_first=True, padding_value=0)\n",
    "            attention_masks = torch.zeros_like(padded_texts).masked_fill(padded_texts != 0, 1)\n",
    "            return self.model(padded_texts,attention_masks).cpu().numpy()\n",
    "    \n",
    "    def get_pred(self, sentences):\n",
    "        return self.get_prob(sentences).argmax(axis=1)"
   ]
  },
  {
   "cell_type": "code",
   "execution_count": 18,
   "metadata": {},
   "outputs": [],
   "source": [
    "\n",
    "victim = MyClassifier()"
   ]
  },
  {
   "cell_type": "code",
   "execution_count": 13,
   "metadata": {},
   "outputs": [
    {
     "data": {
      "text/plain": [
       "0"
      ]
     },
     "execution_count": 13,
     "metadata": {},
     "output_type": "execute_result"
    }
   ],
   "source": [
    "dataset.data[1][1]"
   ]
  },
  {
   "cell_type": "code",
   "execution_count": 21,
   "metadata": {},
   "outputs": [
    {
     "data": {
      "text/plain": [
       "'this is a visually stunning rumination on love , memory , history and the war between art and commerve .'"
      ]
     },
     "execution_count": 21,
     "metadata": {},
     "output_type": "execute_result"
    }
   ],
   "source": [
    "textattacker.attack(victim,text,OpenAttack.attack_assist.goal.ClassifierGoal(1,True))"
   ]
  },
  {
   "cell_type": "code",
   "execution_count": 94,
   "metadata": {},
   "outputs": [
    {
     "data": {
      "text/plain": [
       "'apparently reassembled from the cutting-room floor of any given daytime soap .'"
      ]
     },
     "execution_count": 94,
     "metadata": {},
     "output_type": "execute_result"
    }
   ],
   "source": [
    "dataset.data[1][0]"
   ]
  },
  {
   "cell_type": "code",
   "execution_count": 4,
   "metadata": {},
   "outputs": [],
   "source": [
    "with no_ssl_verify():\n",
    "    viperattacker = OpenAttack.attackers.VIPERAttacker()\n",
    "viperattacker.attack(victim,dataset.data[1][0],OpenAttack.attack_assist.goal.ClassifierGoal(1,True))"
   ]
  },
  {
   "cell_type": "code",
   "execution_count": 15,
   "metadata": {},
   "outputs": [],
   "source": [
    "with no_ssl_verify():\n",
    "    baeattacker = OpenAttack.attackers.BAEAttacker()\n",
    "viperattacker.attack(victim,dataset.data[1][0],OpenAttack.attack_assist.goal.ClassifierGoal(1,True))"
   ]
  },
  {
   "cell_type": "code",
   "execution_count": null,
   "metadata": {},
   "outputs": [],
   "source": []
  }
 ],
 "metadata": {
  "kernelspec": {
   "display_name": "Python 3.8.13 ('mondep-env')",
   "language": "python",
   "name": "python3"
  },
  "language_info": {
   "codemirror_mode": {
    "name": "ipython",
    "version": 3
   },
   "file_extension": ".py",
   "mimetype": "text/x-python",
   "name": "python",
   "nbconvert_exporter": "python",
   "pygments_lexer": "ipython3",
   "version": "3.8.13"
  },
  "orig_nbformat": 4,
  "vscode": {
   "interpreter": {
    "hash": "b57dbb286efd4f0cad907d36035312af520907e2ed162e4f95aa0057a3559af1"
   }
  }
 },
 "nbformat": 4,
 "nbformat_minor": 2
}
